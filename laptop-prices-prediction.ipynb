{
 "cells": [
  {
   "cell_type": "markdown",
   "metadata": {
    "papermill": {
     "duration": 0.028976,
     "end_time": "2023-11-06T07:19:13.137413",
     "exception": false,
     "start_time": "2023-11-06T07:19:13.108437",
     "status": "completed"
    },
    "tags": []
   },
   "source": [
    "# Laptop Prices Prediction\n",
    "This analysis and model will be used to find correlation between specs and laptop price aswell as being used to predict laptop prices in the future."
   ]
  },
  {
   "cell_type": "code",
   "execution_count": 1,
   "metadata": {
    "_cell_guid": "b1076dfc-b9ad-4769-8c92-a6c4dae69d19",
    "_uuid": "8f2839f25d086af736a60e9eeb907d3b93b6e0e5",
    "execution": {
     "iopub.execute_input": "2023-11-06T07:19:13.190710Z",
     "iopub.status.busy": "2023-11-06T07:19:13.189563Z",
     "iopub.status.idle": "2023-11-06T07:19:14.473221Z",
     "shell.execute_reply": "2023-11-06T07:19:14.472093Z",
     "shell.execute_reply.started": "2023-11-06T04:18:44.786123Z"
    },
    "papermill": {
     "duration": 1.312377,
     "end_time": "2023-11-06T07:19:14.473393",
     "exception": false,
     "start_time": "2023-11-06T07:19:13.161016",
     "status": "completed"
    },
    "tags": []
   },
   "outputs": [
    {
     "name": "stdout",
     "output_type": "stream",
     "text": [
      "/kaggle/input/laptop-price/laptop_price.csv\n"
     ]
    }
   ],
   "source": [
    "import numpy as np\n",
    "import pandas as pd\n",
    "import matplotlib.pyplot as plt\n",
    "import seaborn as sb\n",
    "from sklearn.model_selection import train_test_split\n",
    "from sklearn.linear_model import SGDRegressor\n",
    "from sklearn.metrics import mean_squared_error\n",
    "from sklearn.model_selection import GridSearchCV\n",
    "from sklearn.neighbors import KNeighborsRegressor\n",
    "\n",
    "import os\n",
    "for dirname, _, filenames in os.walk('/kaggle/input'):\n",
    "    for filename in filenames:\n",
    "        print(os.path.join(dirname, filename))"
   ]
  },
  {
   "cell_type": "markdown",
   "metadata": {
    "papermill": {
     "duration": 0.023963,
     "end_time": "2023-11-06T07:19:14.521953",
     "exception": false,
     "start_time": "2023-11-06T07:19:14.497990",
     "status": "completed"
    },
    "tags": []
   },
   "source": [
    "## Variable Identification\n",
    "First I will explore each variable first, I want to find out the data type of each and how many null entries I have in the dataset."
   ]
  },
  {
   "cell_type": "code",
   "execution_count": 2,
   "metadata": {
    "_cell_guid": "79c7e3d0-c299-4dcb-8224-4455121ee9b0",
    "_uuid": "d629ff2d2480ee46fbb7e2d37f6b5fab8052498a",
    "execution": {
     "iopub.execute_input": "2023-11-06T07:19:14.586844Z",
     "iopub.status.busy": "2023-11-06T07:19:14.585495Z",
     "iopub.status.idle": "2023-11-06T07:19:14.643975Z",
     "shell.execute_reply": "2023-11-06T07:19:14.644540Z",
     "shell.execute_reply.started": "2023-11-06T04:18:46.011975Z"
    },
    "papermill": {
     "duration": 0.098232,
     "end_time": "2023-11-06T07:19:14.644709",
     "exception": false,
     "start_time": "2023-11-06T07:19:14.546477",
     "status": "completed"
    },
    "tags": []
   },
   "outputs": [
    {
     "data": {
      "text/html": [
       "<div>\n",
       "<style scoped>\n",
       "    .dataframe tbody tr th:only-of-type {\n",
       "        vertical-align: middle;\n",
       "    }\n",
       "\n",
       "    .dataframe tbody tr th {\n",
       "        vertical-align: top;\n",
       "    }\n",
       "\n",
       "    .dataframe thead th {\n",
       "        text-align: right;\n",
       "    }\n",
       "</style>\n",
       "<table border=\"1\" class=\"dataframe\">\n",
       "  <thead>\n",
       "    <tr style=\"text-align: right;\">\n",
       "      <th></th>\n",
       "      <th>Company</th>\n",
       "      <th>Product</th>\n",
       "      <th>TypeName</th>\n",
       "      <th>Inches</th>\n",
       "      <th>ScreenResolution</th>\n",
       "      <th>Cpu</th>\n",
       "      <th>Ram</th>\n",
       "      <th>Memory</th>\n",
       "      <th>Gpu</th>\n",
       "      <th>OpSys</th>\n",
       "      <th>Weight</th>\n",
       "      <th>Price_euros</th>\n",
       "    </tr>\n",
       "    <tr>\n",
       "      <th>laptop_ID</th>\n",
       "      <th></th>\n",
       "      <th></th>\n",
       "      <th></th>\n",
       "      <th></th>\n",
       "      <th></th>\n",
       "      <th></th>\n",
       "      <th></th>\n",
       "      <th></th>\n",
       "      <th></th>\n",
       "      <th></th>\n",
       "      <th></th>\n",
       "      <th></th>\n",
       "    </tr>\n",
       "  </thead>\n",
       "  <tbody>\n",
       "    <tr>\n",
       "      <th>1</th>\n",
       "      <td>Apple</td>\n",
       "      <td>MacBook Pro</td>\n",
       "      <td>Ultrabook</td>\n",
       "      <td>13.3</td>\n",
       "      <td>IPS Panel Retina Display 2560x1600</td>\n",
       "      <td>Intel Core i5 2.3GHz</td>\n",
       "      <td>8GB</td>\n",
       "      <td>128GB SSD</td>\n",
       "      <td>Intel Iris Plus Graphics 640</td>\n",
       "      <td>macOS</td>\n",
       "      <td>1.37kg</td>\n",
       "      <td>1339.69</td>\n",
       "    </tr>\n",
       "    <tr>\n",
       "      <th>2</th>\n",
       "      <td>Apple</td>\n",
       "      <td>Macbook Air</td>\n",
       "      <td>Ultrabook</td>\n",
       "      <td>13.3</td>\n",
       "      <td>1440x900</td>\n",
       "      <td>Intel Core i5 1.8GHz</td>\n",
       "      <td>8GB</td>\n",
       "      <td>128GB Flash Storage</td>\n",
       "      <td>Intel HD Graphics 6000</td>\n",
       "      <td>macOS</td>\n",
       "      <td>1.34kg</td>\n",
       "      <td>898.94</td>\n",
       "    </tr>\n",
       "    <tr>\n",
       "      <th>3</th>\n",
       "      <td>HP</td>\n",
       "      <td>250 G6</td>\n",
       "      <td>Notebook</td>\n",
       "      <td>15.6</td>\n",
       "      <td>Full HD 1920x1080</td>\n",
       "      <td>Intel Core i5 7200U 2.5GHz</td>\n",
       "      <td>8GB</td>\n",
       "      <td>256GB SSD</td>\n",
       "      <td>Intel HD Graphics 620</td>\n",
       "      <td>No OS</td>\n",
       "      <td>1.86kg</td>\n",
       "      <td>575.00</td>\n",
       "    </tr>\n",
       "    <tr>\n",
       "      <th>4</th>\n",
       "      <td>Apple</td>\n",
       "      <td>MacBook Pro</td>\n",
       "      <td>Ultrabook</td>\n",
       "      <td>15.4</td>\n",
       "      <td>IPS Panel Retina Display 2880x1800</td>\n",
       "      <td>Intel Core i7 2.7GHz</td>\n",
       "      <td>16GB</td>\n",
       "      <td>512GB SSD</td>\n",
       "      <td>AMD Radeon Pro 455</td>\n",
       "      <td>macOS</td>\n",
       "      <td>1.83kg</td>\n",
       "      <td>2537.45</td>\n",
       "    </tr>\n",
       "    <tr>\n",
       "      <th>5</th>\n",
       "      <td>Apple</td>\n",
       "      <td>MacBook Pro</td>\n",
       "      <td>Ultrabook</td>\n",
       "      <td>13.3</td>\n",
       "      <td>IPS Panel Retina Display 2560x1600</td>\n",
       "      <td>Intel Core i5 3.1GHz</td>\n",
       "      <td>8GB</td>\n",
       "      <td>256GB SSD</td>\n",
       "      <td>Intel Iris Plus Graphics 650</td>\n",
       "      <td>macOS</td>\n",
       "      <td>1.37kg</td>\n",
       "      <td>1803.60</td>\n",
       "    </tr>\n",
       "  </tbody>\n",
       "</table>\n",
       "</div>"
      ],
      "text/plain": [
       "          Company      Product   TypeName  Inches  \\\n",
       "laptop_ID                                           \n",
       "1           Apple  MacBook Pro  Ultrabook    13.3   \n",
       "2           Apple  Macbook Air  Ultrabook    13.3   \n",
       "3              HP       250 G6   Notebook    15.6   \n",
       "4           Apple  MacBook Pro  Ultrabook    15.4   \n",
       "5           Apple  MacBook Pro  Ultrabook    13.3   \n",
       "\n",
       "                             ScreenResolution                         Cpu  \\\n",
       "laptop_ID                                                                   \n",
       "1          IPS Panel Retina Display 2560x1600        Intel Core i5 2.3GHz   \n",
       "2                                    1440x900        Intel Core i5 1.8GHz   \n",
       "3                           Full HD 1920x1080  Intel Core i5 7200U 2.5GHz   \n",
       "4          IPS Panel Retina Display 2880x1800        Intel Core i7 2.7GHz   \n",
       "5          IPS Panel Retina Display 2560x1600        Intel Core i5 3.1GHz   \n",
       "\n",
       "            Ram               Memory                           Gpu  OpSys  \\\n",
       "laptop_ID                                                                   \n",
       "1           8GB            128GB SSD  Intel Iris Plus Graphics 640  macOS   \n",
       "2           8GB  128GB Flash Storage        Intel HD Graphics 6000  macOS   \n",
       "3           8GB            256GB SSD         Intel HD Graphics 620  No OS   \n",
       "4          16GB            512GB SSD            AMD Radeon Pro 455  macOS   \n",
       "5           8GB            256GB SSD  Intel Iris Plus Graphics 650  macOS   \n",
       "\n",
       "           Weight  Price_euros  \n",
       "laptop_ID                       \n",
       "1          1.37kg      1339.69  \n",
       "2          1.34kg       898.94  \n",
       "3          1.86kg       575.00  \n",
       "4          1.83kg      2537.45  \n",
       "5          1.37kg      1803.60  "
      ]
     },
     "execution_count": 2,
     "metadata": {},
     "output_type": "execute_result"
    }
   ],
   "source": [
    "laptops = pd.read_csv('/kaggle/input/laptop-price/laptop_price.csv',encoding='latin-1')\n",
    "laptops = laptops.set_index('laptop_ID')\n",
    "laptops.head()"
   ]
  },
  {
   "cell_type": "markdown",
   "metadata": {
    "papermill": {
     "duration": 0.036378,
     "end_time": "2023-11-06T07:19:14.705735",
     "exception": false,
     "start_time": "2023-11-06T07:19:14.669357",
     "status": "completed"
    },
    "tags": []
   },
   "source": [
    "Wow! Not one missing entry! Don't you love it when this happens."
   ]
  },
  {
   "cell_type": "code",
   "execution_count": 3,
   "metadata": {
    "execution": {
     "iopub.execute_input": "2023-11-06T07:19:14.778207Z",
     "iopub.status.busy": "2023-11-06T07:19:14.777433Z",
     "iopub.status.idle": "2023-11-06T07:19:14.799057Z",
     "shell.execute_reply": "2023-11-06T07:19:14.800211Z",
     "shell.execute_reply.started": "2023-11-06T04:18:46.097405Z"
    },
    "papermill": {
     "duration": 0.058811,
     "end_time": "2023-11-06T07:19:14.800546",
     "exception": false,
     "start_time": "2023-11-06T07:19:14.741735",
     "status": "completed"
    },
    "tags": []
   },
   "outputs": [
    {
     "name": "stdout",
     "output_type": "stream",
     "text": [
      "<class 'pandas.core.frame.DataFrame'>\n",
      "Int64Index: 1303 entries, 1 to 1320\n",
      "Data columns (total 12 columns):\n",
      " #   Column            Non-Null Count  Dtype  \n",
      "---  ------            --------------  -----  \n",
      " 0   Company           1303 non-null   object \n",
      " 1   Product           1303 non-null   object \n",
      " 2   TypeName          1303 non-null   object \n",
      " 3   Inches            1303 non-null   float64\n",
      " 4   ScreenResolution  1303 non-null   object \n",
      " 5   Cpu               1303 non-null   object \n",
      " 6   Ram               1303 non-null   object \n",
      " 7   Memory            1303 non-null   object \n",
      " 8   Gpu               1303 non-null   object \n",
      " 9   OpSys             1303 non-null   object \n",
      " 10  Weight            1303 non-null   object \n",
      " 11  Price_euros       1303 non-null   float64\n",
      "dtypes: float64(2), object(10)\n",
      "memory usage: 132.3+ KB\n"
     ]
    }
   ],
   "source": [
    "laptops.info()"
   ]
  },
  {
   "cell_type": "code",
   "execution_count": 4,
   "metadata": {
    "execution": {
     "iopub.execute_input": "2023-11-06T07:19:14.867957Z",
     "iopub.status.busy": "2023-11-06T07:19:14.865676Z",
     "iopub.status.idle": "2023-11-06T07:19:14.883965Z",
     "shell.execute_reply": "2023-11-06T07:19:14.883246Z",
     "shell.execute_reply.started": "2023-11-06T04:18:46.116428Z"
    },
    "papermill": {
     "duration": 0.050084,
     "end_time": "2023-11-06T07:19:14.884091",
     "exception": false,
     "start_time": "2023-11-06T07:19:14.834007",
     "status": "completed"
    },
    "tags": []
   },
   "outputs": [
    {
     "data": {
      "text/html": [
       "<div>\n",
       "<style scoped>\n",
       "    .dataframe tbody tr th:only-of-type {\n",
       "        vertical-align: middle;\n",
       "    }\n",
       "\n",
       "    .dataframe tbody tr th {\n",
       "        vertical-align: top;\n",
       "    }\n",
       "\n",
       "    .dataframe thead th {\n",
       "        text-align: right;\n",
       "    }\n",
       "</style>\n",
       "<table border=\"1\" class=\"dataframe\">\n",
       "  <thead>\n",
       "    <tr style=\"text-align: right;\">\n",
       "      <th></th>\n",
       "      <th>Inches</th>\n",
       "      <th>Price_euros</th>\n",
       "    </tr>\n",
       "  </thead>\n",
       "  <tbody>\n",
       "    <tr>\n",
       "      <th>count</th>\n",
       "      <td>1303.000000</td>\n",
       "      <td>1303.000000</td>\n",
       "    </tr>\n",
       "    <tr>\n",
       "      <th>mean</th>\n",
       "      <td>15.017191</td>\n",
       "      <td>1123.686992</td>\n",
       "    </tr>\n",
       "    <tr>\n",
       "      <th>std</th>\n",
       "      <td>1.426304</td>\n",
       "      <td>699.009043</td>\n",
       "    </tr>\n",
       "    <tr>\n",
       "      <th>min</th>\n",
       "      <td>10.100000</td>\n",
       "      <td>174.000000</td>\n",
       "    </tr>\n",
       "    <tr>\n",
       "      <th>25%</th>\n",
       "      <td>14.000000</td>\n",
       "      <td>599.000000</td>\n",
       "    </tr>\n",
       "    <tr>\n",
       "      <th>50%</th>\n",
       "      <td>15.600000</td>\n",
       "      <td>977.000000</td>\n",
       "    </tr>\n",
       "    <tr>\n",
       "      <th>75%</th>\n",
       "      <td>15.600000</td>\n",
       "      <td>1487.880000</td>\n",
       "    </tr>\n",
       "    <tr>\n",
       "      <th>max</th>\n",
       "      <td>18.400000</td>\n",
       "      <td>6099.000000</td>\n",
       "    </tr>\n",
       "  </tbody>\n",
       "</table>\n",
       "</div>"
      ],
      "text/plain": [
       "            Inches  Price_euros\n",
       "count  1303.000000  1303.000000\n",
       "mean     15.017191  1123.686992\n",
       "std       1.426304   699.009043\n",
       "min      10.100000   174.000000\n",
       "25%      14.000000   599.000000\n",
       "50%      15.600000   977.000000\n",
       "75%      15.600000  1487.880000\n",
       "max      18.400000  6099.000000"
      ]
     },
     "execution_count": 4,
     "metadata": {},
     "output_type": "execute_result"
    }
   ],
   "source": [
    "laptops.describe()"
   ]
  },
  {
   "cell_type": "code",
   "execution_count": 5,
   "metadata": {
    "execution": {
     "iopub.execute_input": "2023-11-06T07:19:14.945628Z",
     "iopub.status.busy": "2023-11-06T07:19:14.944354Z",
     "iopub.status.idle": "2023-11-06T07:19:15.278783Z",
     "shell.execute_reply": "2023-11-06T07:19:15.278074Z",
     "shell.execute_reply.started": "2023-11-06T04:18:46.148051Z"
    },
    "papermill": {
     "duration": 0.368962,
     "end_time": "2023-11-06T07:19:15.278919",
     "exception": false,
     "start_time": "2023-11-06T07:19:14.909957",
     "status": "completed"
    },
    "tags": []
   },
   "outputs": [
    {
     "data": {
      "text/plain": [
       "<matplotlib.axes._subplots.AxesSubplot at 0x7d3d3ecb7810>"
      ]
     },
     "execution_count": 5,
     "metadata": {},
     "output_type": "execute_result"
    },
    {
     "data": {
      "image/png": "[encoded data removed]",
      "text/plain": [
       "<Figure size 1440x432 with 1 Axes>"
      ]
     },
     "metadata": {
      "needs_background": "light"
     },
     "output_type": "display_data"
    }
   ],
   "source": [
    "laptops['Company'].value_counts()\n",
    "fig_dims = (20, 6)\n",
    "fig, ax = plt.subplots(figsize=fig_dims)\n",
    "sb.countplot(x=\"Company\", data=laptops, ax=ax)"
   ]
  },
  {
   "cell_type": "markdown",
   "metadata": {
    "papermill": {
     "duration": 0.026378,
     "end_time": "2023-11-06T07:19:15.333450",
     "exception": false,
     "start_time": "2023-11-06T07:19:15.307072",
     "status": "completed"
    },
    "tags": []
   },
   "source": [
    "## Data Cleaning & Prep\n",
    "Next, I will clean up all of the confusing categorical data"
   ]
  },
  {
   "cell_type": "code",
   "execution_count": 6,
   "metadata": {
    "execution": {
     "iopub.execute_input": "2023-11-06T07:19:15.396915Z",
     "iopub.status.busy": "2023-11-06T07:19:15.395994Z",
     "iopub.status.idle": "2023-11-06T07:19:16.114863Z",
     "shell.execute_reply": "2023-11-06T07:19:16.114136Z",
     "shell.execute_reply.started": "2023-11-06T04:18:46.476562Z"
    },
    "papermill": {
     "duration": 0.755009,
     "end_time": "2023-11-06T07:19:16.115006",
     "exception": false,
     "start_time": "2023-11-06T07:19:15.359997",
     "status": "completed"
    },
    "tags": []
   },
   "outputs": [],
   "source": [
    "laptops[\"Ram\"] = laptops[\"Ram\"].str.replace('GB', '')\n",
    "laptops[\"Weight\"] = laptops[\"Weight\"].str.replace('kg', '')\n",
    "laptops['Memory'] = laptops['Memory'].astype(str).replace('\\.0', '', regex=True)\n",
    "laptops[\"Memory\"] = laptops[\"Memory\"].str.replace('GB', '')\n",
    "laptops[\"Memory\"] = laptops[\"Memory\"].str.replace('TB', '000')\n",
    "new2 = laptops[\"Memory\"].str.split(\"+\", n = 1, expand = True)\n",
    "laptops[\"first\"]= new2[0]\n",
    "laptops[\"first\"]=laptops[\"first\"].str.strip()\n",
    "laptops[\"second\"]= new2[1]\n",
    "laptops[\"Layer1HDD\"] = laptops[\"first\"].apply(lambda x: 1 if \"HDD\" in x else 0)\n",
    "laptops[\"Layer1SSD\"] = laptops[\"first\"].apply(lambda x: 1 if \"SSD\" in x else 0)\n",
    "laptops[\"Layer1Hybrid\"] = laptops[\"first\"].apply(lambda x: 1 if \"Hybrid\" in x else 0)\n",
    "laptops[\"Layer1Flash_Storage\"] = laptops[\"first\"].apply(lambda x: 1 if \"Flash Storage\" in x else 0)\n",
    "laptops['first'] = laptops['first'].str.replace(r'\\D', '')\n",
    "laptops[\"second\"].fillna(\"0\", inplace = True)\n",
    "laptops[\"Layer2HDD\"] = laptops[\"second\"].apply(lambda x: 1 if \"HDD\" in x else 0)\n",
    "laptops[\"Layer2SSD\"] = laptops[\"second\"].apply(lambda x: 1 if \"SSD\" in x else 0)\n",
    "laptops[\"Layer2Hybrid\"] = laptops[\"second\"].apply(lambda x: 1 if \"Hybrid\" in x else 0)\n",
    "laptops[\"Layer2Flash_Storage\"] = laptops[\"second\"].apply(lambda x: 1 if \"Flash Storage\" in x else 0)\n",
    "laptops['second'] = laptops['second'].str.replace(r'\\D', '')\n",
    "laptops[\"first\"] = laptops[\"first\"].astype(int)\n",
    "laptops[\"second\"] = laptops[\"second\"].astype(int)\n",
    "laptops[\"Total_Memory\"]=(laptops[\"first\"]*(laptops[\"Layer1HDD\"]+laptops[\"Layer1SSD\"]+laptops[\"Layer1Hybrid\"]+laptops[\"Layer1Flash_Storage\"])+laptops[\"second\"]*(laptops[\"Layer2HDD\"]+laptops[\"Layer2SSD\"]+laptops[\"Layer2Hybrid\"]+laptops[\"Layer2Flash_Storage\"]))\n",
    "laptops[\"Memory\"]=laptops[\"Total_Memory\"]\n",
    "laptops[\"HDD\"]=(laptops[\"first\"]*laptops[\"Layer1HDD\"]+laptops[\"second\"]*laptops[\"Layer2HDD\"])\n",
    "laptops[\"SSD\"]=(laptops[\"first\"]*laptops[\"Layer1SSD\"]+laptops[\"second\"]*laptops[\"Layer2SSD\"])\n",
    "laptops[\"Hybrid\"]=(laptops[\"first\"]*laptops[\"Layer1Hybrid\"]+laptops[\"second\"]*laptops[\"Layer2Hybrid\"])\n",
    "laptops[\"Flash_Storage\"]=(laptops[\"first\"]*laptops[\"Layer1Flash_Storage\"]+laptops[\"second\"]*laptops[\"Layer2Flash_Storage\"])\n",
    "new = laptops[\"ScreenResolution\"].str.split(\"x\", n = 1, expand = True) \n",
    "laptops[\"X_res\"]= new[0]\n",
    "laptops[\"Y_res\"]= new[1]\n",
    "laptops[\"Y_res\"]= pd.to_numeric(laptops[\"Y_res\"])\n",
    "laptops[\"Y_res\"]= laptops[\"Y_res\"].astype(float)\n",
    "laptops[\"X_res\"]=(laptops['X_res'].str.replace(',','').str.findall(r'(\\d+\\.?\\d+)').apply(lambda x: pd.Series(x).astype(int)).mean(1))\n",
    "laptops[\"X_res\"]=pd.to_numeric(laptops[\"X_res\"])\n",
    "laptops[\"PPI\"]=(((laptops[\"X_res\"]**2+laptops[\"Y_res\"]**2)**(1/2))/laptops[\"Inches\"]).astype(float)\n",
    "laptops[\"ScreenResolution\"]=(laptops[\"X_res\"]*laptops[\"Y_res\"]).astype(float)\n",
    "laptops[\"Ram\"] = laptops[\"Ram\"].astype(int)\n",
    "laptops[\"Weight\"] = laptops[\"Weight\"].astype(float)\n",
    "laptops=laptops.drop(['first','second','Layer1HDD','Layer1SSD','Layer1Hybrid','Layer1Flash_Storage','Layer2HDD','Layer2SSD','Layer2Hybrid','Layer2Flash_Storage','Total_Memory'],axis=1)"
   ]
  },
  {
   "cell_type": "code",
   "execution_count": 7,
   "metadata": {
    "execution": {
     "iopub.execute_input": "2023-11-06T07:19:16.197085Z",
     "iopub.status.busy": "2023-11-06T07:19:16.196175Z",
     "iopub.status.idle": "2023-11-06T07:19:16.201146Z",
     "shell.execute_reply": "2023-11-06T07:19:16.201692Z",
     "shell.execute_reply.started": "2023-11-06T04:18:47.202246Z"
    },
    "papermill": {
     "duration": 0.059306,
     "end_time": "2023-11-06T07:19:16.201864",
     "exception": false,
     "start_time": "2023-11-06T07:19:16.142558",
     "status": "completed"
    },
    "tags": []
   },
   "outputs": [
    {
     "data": {
      "text/html": [
       "<div>\n",
       "<style scoped>\n",
       "    .dataframe tbody tr th:only-of-type {\n",
       "        vertical-align: middle;\n",
       "    }\n",
       "\n",
       "    .dataframe tbody tr th {\n",
       "        vertical-align: top;\n",
       "    }\n",
       "\n",
       "    .dataframe thead th {\n",
       "        text-align: right;\n",
       "    }\n",
       "</style>\n",
       "<table border=\"1\" class=\"dataframe\">\n",
       "  <thead>\n",
       "    <tr style=\"text-align: right;\">\n",
       "      <th></th>\n",
       "      <th>Company</th>\n",
       "      <th>Product</th>\n",
       "      <th>TypeName</th>\n",
       "      <th>Inches</th>\n",
       "      <th>ScreenResolution</th>\n",
       "      <th>Cpu</th>\n",
       "      <th>Ram</th>\n",
       "      <th>Memory</th>\n",
       "      <th>Gpu</th>\n",
       "      <th>OpSys</th>\n",
       "      <th>Weight</th>\n",
       "      <th>Price_euros</th>\n",
       "      <th>HDD</th>\n",
       "      <th>SSD</th>\n",
       "      <th>Hybrid</th>\n",
       "      <th>Flash_Storage</th>\n",
       "      <th>X_res</th>\n",
       "      <th>Y_res</th>\n",
       "      <th>PPI</th>\n",
       "    </tr>\n",
       "    <tr>\n",
       "      <th>laptop_ID</th>\n",
       "      <th></th>\n",
       "      <th></th>\n",
       "      <th></th>\n",
       "      <th></th>\n",
       "      <th></th>\n",
       "      <th></th>\n",
       "      <th></th>\n",
       "      <th></th>\n",
       "      <th></th>\n",
       "      <th></th>\n",
       "      <th></th>\n",
       "      <th></th>\n",
       "      <th></th>\n",
       "      <th></th>\n",
       "      <th></th>\n",
       "      <th></th>\n",
       "      <th></th>\n",
       "      <th></th>\n",
       "      <th></th>\n",
       "    </tr>\n",
       "  </thead>\n",
       "  <tbody>\n",
       "    <tr>\n",
       "      <th>1</th>\n",
       "      <td>Apple</td>\n",
       "      <td>MacBook Pro</td>\n",
       "      <td>Ultrabook</td>\n",
       "      <td>13.3</td>\n",
       "      <td>4096000.0</td>\n",
       "      <td>Intel Core i5 2.3GHz</td>\n",
       "      <td>8</td>\n",
       "      <td>128</td>\n",
       "      <td>Intel Iris Plus Graphics 640</td>\n",
       "      <td>macOS</td>\n",
       "      <td>1.37</td>\n",
       "      <td>1339.69</td>\n",
       "      <td>0</td>\n",
       "      <td>128</td>\n",
       "      <td>0</td>\n",
       "      <td>0</td>\n",
       "      <td>2560.0</td>\n",
       "      <td>1600.0</td>\n",
       "      <td>226.983005</td>\n",
       "    </tr>\n",
       "    <tr>\n",
       "      <th>2</th>\n",
       "      <td>Apple</td>\n",
       "      <td>Macbook Air</td>\n",
       "      <td>Ultrabook</td>\n",
       "      <td>13.3</td>\n",
       "      <td>1296000.0</td>\n",
       "      <td>Intel Core i5 1.8GHz</td>\n",
       "      <td>8</td>\n",
       "      <td>128</td>\n",
       "      <td>Intel HD Graphics 6000</td>\n",
       "      <td>macOS</td>\n",
       "      <td>1.34</td>\n",
       "      <td>898.94</td>\n",
       "      <td>0</td>\n",
       "      <td>0</td>\n",
       "      <td>0</td>\n",
       "      <td>128</td>\n",
       "      <td>1440.0</td>\n",
       "      <td>900.0</td>\n",
       "      <td>127.677940</td>\n",
       "    </tr>\n",
       "    <tr>\n",
       "      <th>3</th>\n",
       "      <td>HP</td>\n",
       "      <td>250 G6</td>\n",
       "      <td>Notebook</td>\n",
       "      <td>15.6</td>\n",
       "      <td>2073600.0</td>\n",
       "      <td>Intel Core i5 7200U 2.5GHz</td>\n",
       "      <td>8</td>\n",
       "      <td>256</td>\n",
       "      <td>Intel HD Graphics 620</td>\n",
       "      <td>No OS</td>\n",
       "      <td>1.86</td>\n",
       "      <td>575.00</td>\n",
       "      <td>0</td>\n",
       "      <td>256</td>\n",
       "      <td>0</td>\n",
       "      <td>0</td>\n",
       "      <td>1920.0</td>\n",
       "      <td>1080.0</td>\n",
       "      <td>141.211998</td>\n",
       "    </tr>\n",
       "    <tr>\n",
       "      <th>4</th>\n",
       "      <td>Apple</td>\n",
       "      <td>MacBook Pro</td>\n",
       "      <td>Ultrabook</td>\n",
       "      <td>15.4</td>\n",
       "      <td>5184000.0</td>\n",
       "      <td>Intel Core i7 2.7GHz</td>\n",
       "      <td>16</td>\n",
       "      <td>512</td>\n",
       "      <td>AMD Radeon Pro 455</td>\n",
       "      <td>macOS</td>\n",
       "      <td>1.83</td>\n",
       "      <td>2537.45</td>\n",
       "      <td>0</td>\n",
       "      <td>512</td>\n",
       "      <td>0</td>\n",
       "      <td>0</td>\n",
       "      <td>2880.0</td>\n",
       "      <td>1800.0</td>\n",
       "      <td>220.534624</td>\n",
       "    </tr>\n",
       "    <tr>\n",
       "      <th>5</th>\n",
       "      <td>Apple</td>\n",
       "      <td>MacBook Pro</td>\n",
       "      <td>Ultrabook</td>\n",
       "      <td>13.3</td>\n",
       "      <td>4096000.0</td>\n",
       "      <td>Intel Core i5 3.1GHz</td>\n",
       "      <td>8</td>\n",
       "      <td>256</td>\n",
       "      <td>Intel Iris Plus Graphics 650</td>\n",
       "      <td>macOS</td>\n",
       "      <td>1.37</td>\n",
       "      <td>1803.60</td>\n",
       "      <td>0</td>\n",
       "      <td>256</td>\n",
       "      <td>0</td>\n",
       "      <td>0</td>\n",
       "      <td>2560.0</td>\n",
       "      <td>1600.0</td>\n",
       "      <td>226.983005</td>\n",
       "    </tr>\n",
       "  </tbody>\n",
       "</table>\n",
       "</div>"
      ],
      "text/plain": [
       "          Company      Product   TypeName  Inches  ScreenResolution  \\\n",
       "laptop_ID                                                             \n",
       "1           Apple  MacBook Pro  Ultrabook    13.3         4096000.0   \n",
       "2           Apple  Macbook Air  Ultrabook    13.3         1296000.0   \n",
       "3              HP       250 G6   Notebook    15.6         2073600.0   \n",
       "4           Apple  MacBook Pro  Ultrabook    15.4         5184000.0   \n",
       "5           Apple  MacBook Pro  Ultrabook    13.3         4096000.0   \n",
       "\n",
       "                                  Cpu  Ram  Memory  \\\n",
       "laptop_ID                                            \n",
       "1                Intel Core i5 2.3GHz    8     128   \n",
       "2                Intel Core i5 1.8GHz    8     128   \n",
       "3          Intel Core i5 7200U 2.5GHz    8     256   \n",
       "4                Intel Core i7 2.7GHz   16     512   \n",
       "5                Intel Core i5 3.1GHz    8     256   \n",
       "\n",
       "                                    Gpu  OpSys  Weight  Price_euros  HDD  SSD  \\\n",
       "laptop_ID                                                                       \n",
       "1          Intel Iris Plus Graphics 640  macOS    1.37      1339.69    0  128   \n",
       "2                Intel HD Graphics 6000  macOS    1.34       898.94    0    0   \n",
       "3                 Intel HD Graphics 620  No OS    1.86       575.00    0  256   \n",
       "4                    AMD Radeon Pro 455  macOS    1.83      2537.45    0  512   \n",
       "5          Intel Iris Plus Graphics 650  macOS    1.37      1803.60    0  256   \n",
       "\n",
       "           Hybrid  Flash_Storage   X_res   Y_res         PPI  \n",
       "laptop_ID                                                     \n",
       "1               0              0  2560.0  1600.0  226.983005  \n",
       "2               0            128  1440.0   900.0  127.677940  \n",
       "3               0              0  1920.0  1080.0  141.211998  \n",
       "4               0              0  2880.0  1800.0  220.534624  \n",
       "5               0              0  2560.0  1600.0  226.983005  "
      ]
     },
     "execution_count": 7,
     "metadata": {},
     "output_type": "execute_result"
    }
   ],
   "source": [
    "laptops.head(5)"
   ]
  },
  {
   "cell_type": "markdown",
   "metadata": {
    "papermill": {
     "duration": 0.028219,
     "end_time": "2023-11-06T07:19:16.258029",
     "exception": false,
     "start_time": "2023-11-06T07:19:16.229810",
     "status": "completed"
    },
    "tags": []
   },
   "source": [
    "## Bi-variate Analysis\n",
    "Now I will compare features against each other to try and find some correlation between them."
   ]
  },
  {
   "cell_type": "code",
   "execution_count": 8,
   "metadata": {
    "execution": {
     "iopub.execute_input": "2023-11-06T07:19:16.317883Z",
     "iopub.status.busy": "2023-11-06T07:19:16.317096Z",
     "iopub.status.idle": "2023-11-06T07:19:17.299371Z",
     "shell.execute_reply": "2023-11-06T07:19:17.299975Z",
     "shell.execute_reply.started": "2023-11-06T04:18:47.232034Z"
    },
    "papermill": {
     "duration": 1.014142,
     "end_time": "2023-11-06T07:19:17.300162",
     "exception": false,
     "start_time": "2023-11-06T07:19:16.286020",
     "status": "completed"
    },
    "tags": []
   },
   "outputs": [
    {
     "data": {
      "image/png": "[encoded data removed]",
      "text/plain": [
       "<Figure size 1152x1152 with 2 Axes>"
      ]
     },
     "metadata": {
      "needs_background": "light"
     },
     "output_type": "display_data"
    }
   ],
   "source": [
    "def correlation_heatmap(train):\n",
    "    correlations = train.corr()\n",
    "    \n",
    "    fig, ax = plt.subplots(figsize=(16,16))\n",
    "    sb.heatmap(correlations, vmax=1.0, center=0, fmt='.2f', square=True, linewidths=.5, annot=True, cbar_kws={\"shrink\":.70})\n",
    "    plt.show()\n",
    "correlation_heatmap(laptops)"
   ]
  },
  {
   "cell_type": "code",
   "execution_count": 9,
   "metadata": {
    "execution": {
     "iopub.execute_input": "2023-11-06T07:19:17.369022Z",
     "iopub.status.busy": "2023-11-06T07:19:17.367888Z",
     "iopub.status.idle": "2023-11-06T07:19:17.619925Z",
     "shell.execute_reply": "2023-11-06T07:19:17.619070Z",
     "shell.execute_reply.started": "2023-11-06T04:18:48.290834Z"
    },
    "papermill": {
     "duration": 0.286985,
     "end_time": "2023-11-06T07:19:17.620058",
     "exception": false,
     "start_time": "2023-11-06T07:19:17.333073",
     "status": "completed"
    },
    "tags": []
   },
   "outputs": [
    {
     "data": {
      "text/plain": [
       "<matplotlib.axes._subplots.AxesSubplot at 0x7d3d3e899290>"
      ]
     },
     "execution_count": 9,
     "metadata": {},
     "output_type": "execute_result"
    },
    {
     "data": {
      "image/png": "[encoded data removed]",
      "text/plain": [
       "<Figure size 1440x720 with 1 Axes>"
      ]
     },
     "metadata": {
      "needs_background": "light"
     },
     "output_type": "display_data"
    }
   ],
   "source": [
    "fig_dims = (20, 10)\n",
    "fig, ax = plt.subplots(figsize=fig_dims)\n",
    "sb.scatterplot(data=laptops, x=\"Price_euros\", y=\"Ram\", ax=ax, s=75)"
   ]
  },
  {
   "cell_type": "code",
   "execution_count": 10,
   "metadata": {
    "execution": {
     "iopub.execute_input": "2023-11-06T07:19:17.701450Z",
     "iopub.status.busy": "2023-11-06T07:19:17.700256Z",
     "iopub.status.idle": "2023-11-06T07:19:17.920785Z",
     "shell.execute_reply": "2023-11-06T07:19:17.921429Z",
     "shell.execute_reply.started": "2023-11-06T04:18:48.567811Z"
    },
    "papermill": {
     "duration": 0.267259,
     "end_time": "2023-11-06T07:19:17.921603",
     "exception": false,
     "start_time": "2023-11-06T07:19:17.654344",
     "status": "completed"
    },
    "tags": []
   },
   "outputs": [
    {
     "data": {
      "text/plain": [
       "<matplotlib.axes._subplots.AxesSubplot at 0x7d3d3c51ed50>"
      ]
     },
     "execution_count": 10,
     "metadata": {},
     "output_type": "execute_result"
    },
    {
     "data": {
      "image/png": "[encoded data removed]",
      "text/plain": [
       "<Figure size 1440x720 with 1 Axes>"
      ]
     },
     "metadata": {
      "needs_background": "light"
     },
     "output_type": "display_data"
    }
   ],
   "source": [
    "fig_dims = (20, 10)\n",
    "fig, ax = plt.subplots(figsize=fig_dims)\n",
    "sb.scatterplot(data=laptops, x=\"Price_euros\", y=\"SSD\", ax=ax, s=75)"
   ]
  },
  {
   "cell_type": "code",
   "execution_count": 11,
   "metadata": {
    "execution": {
     "iopub.execute_input": "2023-11-06T07:19:17.996370Z",
     "iopub.status.busy": "2023-11-06T07:19:17.995599Z",
     "iopub.status.idle": "2023-11-06T07:19:18.005743Z",
     "shell.execute_reply": "2023-11-06T07:19:18.006373Z",
     "shell.execute_reply.started": "2023-11-06T04:18:48.824565Z"
    },
    "papermill": {
     "duration": 0.049261,
     "end_time": "2023-11-06T07:19:18.006541",
     "exception": false,
     "start_time": "2023-11-06T07:19:17.957280",
     "status": "completed"
    },
    "tags": []
   },
   "outputs": [],
   "source": [
    "X = laptops.drop(['Price_euros'],axis=1)\n",
    "Y = laptops['Price_euros'].values\n",
    "X = X.select_dtypes(exclude=['object'])"
   ]
  },
  {
   "cell_type": "code",
   "execution_count": 12,
   "metadata": {
    "execution": {
     "iopub.execute_input": "2023-11-06T07:19:18.082630Z",
     "iopub.status.busy": "2023-11-06T07:19:18.081509Z",
     "iopub.status.idle": "2023-11-06T07:19:18.088953Z",
     "shell.execute_reply": "2023-11-06T07:19:18.089649Z",
     "shell.execute_reply.started": "2023-11-06T04:18:48.835122Z"
    },
    "papermill": {
     "duration": 0.047848,
     "end_time": "2023-11-06T07:19:18.089820",
     "exception": false,
     "start_time": "2023-11-06T07:19:18.041972",
     "status": "completed"
    },
    "tags": []
   },
   "outputs": [],
   "source": [
    "X_train, X_test, y_train, y_test = train_test_split(X, Y, test_size=0.1, random_state=42)"
   ]
  },
  {
   "cell_type": "markdown",
   "metadata": {
    "papermill": {
     "duration": 0.035751,
     "end_time": "2023-11-06T07:19:18.162198",
     "exception": false,
     "start_time": "2023-11-06T07:19:18.126447",
     "status": "completed"
    },
    "tags": []
   },
   "source": [
    "## Train Models\n",
    "Now I will train a few models and compare them"
   ]
  },
  {
   "cell_type": "code",
   "execution_count": 13,
   "metadata": {
    "execution": {
     "iopub.execute_input": "2023-11-06T07:19:18.241503Z",
     "iopub.status.busy": "2023-11-06T07:19:18.240649Z",
     "iopub.status.idle": "2023-11-06T07:19:18.254745Z",
     "shell.execute_reply": "2023-11-06T07:19:18.255420Z",
     "shell.execute_reply.started": "2023-11-06T04:18:48.846703Z"
    },
    "papermill": {
     "duration": 0.058282,
     "end_time": "2023-11-06T07:19:18.255585",
     "exception": false,
     "start_time": "2023-11-06T07:19:18.197303",
     "status": "completed"
    },
    "tags": []
   },
   "outputs": [
    {
     "data": {
      "text/plain": [
       "SGDRegressor()"
      ]
     },
     "execution_count": 13,
     "metadata": {},
     "output_type": "execute_result"
    }
   ],
   "source": [
    "SGDreg = SGDRegressor()\n",
    "SGDreg.fit(X_train, y_train)"
   ]
  },
  {
   "cell_type": "code",
   "execution_count": 14,
   "metadata": {
    "execution": {
     "iopub.execute_input": "2023-11-06T07:19:18.333990Z",
     "iopub.status.busy": "2023-11-06T07:19:18.332889Z",
     "iopub.status.idle": "2023-11-06T07:19:18.343544Z",
     "shell.execute_reply": "2023-11-06T07:19:18.344219Z",
     "shell.execute_reply.started": "2023-11-06T04:18:48.872938Z"
    },
    "papermill": {
     "duration": 0.051723,
     "end_time": "2023-11-06T07:19:18.344384",
     "exception": false,
     "start_time": "2023-11-06T07:19:18.292661",
     "status": "completed"
    },
    "tags": []
   },
   "outputs": [
    {
     "data": {
      "text/plain": [
       "2.2903348162064655e+21"
      ]
     },
     "execution_count": 14,
     "metadata": {},
     "output_type": "execute_result"
    }
   ],
   "source": [
    "pred = SGDreg.predict(X_train)\n",
    "sgd_mse = mean_squared_error(y_train, pred)\n",
    "sgd_rmse = np.sqrt(sgd_mse)\n",
    "sgd_rmse"
   ]
  },
  {
   "cell_type": "code",
   "execution_count": 15,
   "metadata": {
    "execution": {
     "iopub.execute_input": "2023-11-06T07:19:18.422963Z",
     "iopub.status.busy": "2023-11-06T07:19:18.421882Z",
     "iopub.status.idle": "2023-11-06T07:19:18.435247Z",
     "shell.execute_reply": "2023-11-06T07:19:18.435831Z",
     "shell.execute_reply.started": "2023-11-06T04:20:04.800826Z"
    },
    "papermill": {
     "duration": 0.055373,
     "end_time": "2023-11-06T07:19:18.435989",
     "exception": false,
     "start_time": "2023-11-06T07:19:18.380616",
     "status": "completed"
    },
    "tags": []
   },
   "outputs": [
    {
     "data": {
      "text/plain": [
       "KNeighborsRegressor()"
      ]
     },
     "execution_count": 15,
     "metadata": {},
     "output_type": "execute_result"
    }
   ],
   "source": [
    "Kreg = KNeighborsRegressor()\n",
    "Kreg.fit(X_train, y_train)"
   ]
  },
  {
   "cell_type": "code",
   "execution_count": 16,
   "metadata": {
    "execution": {
     "iopub.execute_input": "2023-11-06T07:19:18.514208Z",
     "iopub.status.busy": "2023-11-06T07:19:18.512861Z",
     "iopub.status.idle": "2023-11-06T07:19:18.538762Z",
     "shell.execute_reply": "2023-11-06T07:19:18.539340Z",
     "shell.execute_reply.started": "2023-11-06T04:20:04.815319Z"
    },
    "papermill": {
     "duration": 0.06685,
     "end_time": "2023-11-06T07:19:18.539519",
     "exception": false,
     "start_time": "2023-11-06T07:19:18.472669",
     "status": "completed"
    },
    "tags": []
   },
   "outputs": [
    {
     "data": {
      "text/plain": [
       "325.20943566703335"
      ]
     },
     "execution_count": 16,
     "metadata": {},
     "output_type": "execute_result"
    }
   ],
   "source": [
    "pred = Kreg.predict(X_train)\n",
    "k_mse = mean_squared_error(y_train, pred)\n",
    "k_rmse = np.sqrt(k_mse)\n",
    "k_rmse"
   ]
  },
  {
   "cell_type": "code",
   "execution_count": 17,
   "metadata": {
    "execution": {
     "iopub.execute_input": "2023-11-06T07:19:18.619306Z",
     "iopub.status.busy": "2023-11-06T07:19:18.618102Z",
     "iopub.status.idle": "2023-11-06T07:19:19.278653Z",
     "shell.execute_reply": "2023-11-06T07:19:19.279298Z",
     "shell.execute_reply.started": "2023-11-06T04:20:04.843930Z"
    },
    "papermill": {
     "duration": 0.703243,
     "end_time": "2023-11-06T07:19:19.279475",
     "exception": false,
     "start_time": "2023-11-06T07:19:18.576232",
     "status": "completed"
    },
    "tags": []
   },
   "outputs": [
    {
     "name": "stdout",
     "output_type": "stream",
     "text": [
      "Best score: 0.648011578738852\n"
     ]
    }
   ],
   "source": [
    "param_grid = {'n_neighbors': np.arange(1, 12, 2),\n",
    "              'weights': ['uniform', 'distance']}\n",
    "grid_search = GridSearchCV(Kreg, param_grid)\n",
    "grid_search.fit(X_train, y_train)\n",
    "print(\"Best score: \" + str(grid_search.best_score_))"
   ]
  },
  {
   "cell_type": "code",
   "execution_count": 18,
   "metadata": {
    "execution": {
     "iopub.execute_input": "2023-11-06T07:19:19.360103Z",
     "iopub.status.busy": "2023-11-06T07:19:19.358910Z",
     "iopub.status.idle": "2023-11-06T07:19:19.387981Z",
     "shell.execute_reply": "2023-11-06T07:19:19.387150Z",
     "shell.execute_reply.started": "2023-11-06T04:20:05.486332Z"
    },
    "papermill": {
     "duration": 0.071465,
     "end_time": "2023-11-06T07:19:19.388141",
     "exception": false,
     "start_time": "2023-11-06T07:19:19.316676",
     "status": "completed"
    },
    "tags": []
   },
   "outputs": [
    {
     "name": "stdout",
     "output_type": "stream",
     "text": [
      "Predicition: 1382.67 Actual: 1672.0\n",
      "Predicition: 1232.0 Actual: 1149.0\n",
      "Predicition: 614.0 Actual: 499.0\n",
      "Predicition: 1065.67 Actual: 899.0\n",
      "Predicition: 1614.33 Actual: 1244.0\n",
      "Predicition: 1795.33 Actual: 1398.99\n",
      "Predicition: 875.0 Actual: 719.0\n",
      "Predicition: 469.0 Actual: 459.0\n",
      "Predicition: 1126.5 Actual: 1191.0\n",
      "Predicition: 586.67 Actual: 349.0\n",
      "Predicition: 2289.81 Actual: 1899.0\n",
      "Predicition: 928.54 Actual: 726.0\n",
      "Predicition: 1449.0 Actual: 1813.0\n",
      "Predicition: 483.67 Actual: 805.99\n",
      "Predicition: 2190.0 Actual: 1949.0\n",
      "Predicition: 1126.8 Actual: 899.0\n",
      "Predicition: 1298.0 Actual: 1145.0\n",
      "Predicition: 928.54 Actual: 961.0\n",
      "Predicition: 590.67 Actual: 713.07\n",
      "Predicition: 1641.0 Actual: 1649.0\n",
      "Predicition: 2605.6 Actual: 2349.0\n",
      "Predicition: 395.66 Actual: 720.32\n",
      "Predicition: 919.0 Actual: 798.01\n",
      "Predicition: 481.42 Actual: 265.0\n",
      "Predicition: 953.0 Actual: 1149.0\n",
      "Predicition: 1499.0 Actual: 999.0\n",
      "Predicition: 682.97 Actual: 959.0\n",
      "Predicition: 750.33 Actual: 825.0\n",
      "Predicition: 1474.0 Actual: 2277.0\n",
      "Predicition: 1090.33 Actual: 1179.0\n",
      "Predicition: 452.33 Actual: 459.0\n",
      "Predicition: 1350.0 Actual: 1725.0\n",
      "Predicition: 985.67 Actual: 1969.0\n",
      "Predicition: 1057.17 Actual: 959.0\n",
      "Predicition: 1450.25 Actual: 943.0\n",
      "Predicition: 707.97 Actual: 745.0\n",
      "Predicition: 707.97 Actual: 659.01\n",
      "Predicition: 500.33 Actual: 399.0\n",
      "Predicition: 988.6 Actual: 1229.0\n",
      "Predicition: 219.6 Actual: 330.0\n",
      "Predicition: 1376.0 Actual: 1867.85\n",
      "Predicition: 786.48 Actual: 519.0\n",
      "Predicition: 549.0 Actual: 739.0\n",
      "Predicition: 2605.6 Actual: 2289.99\n",
      "Predicition: 389.0 Actual: 547.0\n",
      "Predicition: 1090.33 Actual: 1377.0\n",
      "Predicition: 1393.22 Actual: 1983.0\n",
      "Predicition: 219.6 Actual: 279.0\n",
      "Predicition: 849.9 Actual: 795.0\n",
      "Predicition: 1697.33 Actual: 1458.0\n",
      "Predicition: 1769.33 Actual: 1499.0\n",
      "Predicition: 469.0 Actual: 629.0\n",
      "Predicition: 889.33 Actual: 1199.0\n",
      "Predicition: 1103.24 Actual: 1099.99\n",
      "Predicition: 469.0 Actual: 557.37\n",
      "Predicition: 1362.33 Actual: 1026.0\n",
      "Predicition: 219.6 Actual: 249.0\n",
      "Predicition: 919.0 Actual: 819.0\n",
      "Predicition: 1494.0 Actual: 941.0\n",
      "Predicition: 1065.67 Actual: 899.0\n",
      "Predicition: 2153.89 Actual: 1749.0\n",
      "Predicition: 739.67 Actual: 841.0\n",
      "Predicition: 591.5 Actual: 403.5\n",
      "Predicition: 500.33 Actual: 682.0\n",
      "Predicition: 395.87 Actual: 299.0\n",
      "Predicition: 1563.27 Actual: 2049.9\n",
      "Predicition: 605.67 Actual: 529.0\n",
      "Predicition: 1830.67 Actual: 949.0\n",
      "Predicition: 1030.0 Actual: 1094.0\n",
      "Predicition: 2105.33 Actual: 1279.0\n",
      "Predicition: 2105.33 Actual: 2799.0\n",
      "Predicition: 585.0 Actual: 1119.0\n",
      "Predicition: 619.0 Actual: 530.0\n",
      "Predicition: 891.33 Actual: 806.0\n",
      "Predicition: 376.53 Actual: 309.0\n",
      "Predicition: 619.0 Actual: 469.0\n",
      "Predicition: 715.67 Actual: 639.01\n",
      "Predicition: 1028.33 Actual: 1993.0\n",
      "Predicition: 1209.67 Actual: 1599.0\n",
      "Predicition: 1263.0 Actual: 1499.0\n",
      "Predicition: 1401.16 Actual: 1399.0\n",
      "Predicition: 1456.33 Actual: 615.0\n",
      "Predicition: 217.97 Actual: 349.0\n",
      "Predicition: 730.67 Actual: 713.99\n",
      "Predicition: 317.67 Actual: 278.0\n",
      "Predicition: 1242.33 Actual: 2051.0\n",
      "Predicition: 1125.66 Actual: 439.0\n",
      "Predicition: 3424.29 Actual: 2999.0\n",
      "Predicition: 988.6 Actual: 989.0\n",
      "Predicition: 1491.0 Actual: 819.0\n",
      "Predicition: 1241.8 Actual: 1510.0\n",
      "Predicition: 1599.33 Actual: 3240.0\n",
      "Predicition: 988.6 Actual: 809.0\n",
      "Predicition: 875.0 Actual: 726.0\n",
      "Predicition: 1032.33 Actual: 1474.0\n",
      "Predicition: 458.67 Actual: 426.0\n",
      "Predicition: 953.0 Actual: 859.0\n",
      "Predicition: 786.0 Actual: 716.0\n",
      "Predicition: 612.33 Actual: 784.0\n",
      "Predicition: 1182.58 Actual: 1049.26\n",
      "Predicition: 552.33 Actual: 330.0\n",
      "Predicition: 469.0 Actual: 549.0\n",
      "Predicition: 598.33 Actual: 665.0\n",
      "Predicition: 1970.55 Actual: 2041.0\n",
      "Predicition: 1377.33 Actual: 999.9\n",
      "Predicition: 483.67 Actual: 805.99\n",
      "Predicition: 707.97 Actual: 1169.0\n",
      "Predicition: 873.0 Actual: 499.0\n",
      "Predicition: 889.33 Actual: 1097.0\n",
      "Predicition: 335.67 Actual: 299.0\n",
      "Predicition: 2869.13 Actual: 1799.0\n",
      "Predicition: 1114.67 Actual: 1427.0\n",
      "Predicition: 1842.76 Actual: 879.0\n",
      "Predicition: 2354.67 Actual: 2729.0\n",
      "Predicition: 336.67 Actual: 299.0\n",
      "Predicition: 1274.67 Actual: 2449.0\n",
      "Predicition: 1456.33 Actual: 1199.0\n",
      "Predicition: 1494.0 Actual: 1449.0\n",
      "Predicition: 891.33 Actual: 979.0\n",
      "Predicition: 786.48 Actual: 759.0\n",
      "Predicition: 3612.33 Actual: 6099.0\n",
      "Predicition: 978.77 Actual: 1124.0\n",
      "Predicition: 739.67 Actual: 797.41\n",
      "Predicition: 2417.66 Actual: 1299.0\n",
      "Predicition: 1163.83 Actual: 789.0\n",
      "Predicition: 452.78 Actual: 466.0\n",
      "Predicition: 953.0 Actual: 1099.0\n",
      "Predicition: 587.33 Actual: 649.0\n",
      "Predicition: 1750.67 Actual: 1379.0\n",
      "Predicition: 1316.66 Actual: 699.0\n",
      "Predicition: 1932.33 Actual: 1271.0\n"
     ]
    }
   ],
   "source": [
    "final_model = grid_search.best_estimator_\n",
    "final_pred = final_model.predict(X_test)\n",
    "final_pred = final_pred.tolist()\n",
    "for pred in range(0, len(final_pred)):\n",
    "    print(\"Predicition: \" + str(round(final_pred[pred], 2)) + \" Actual: \" + str(y_test[pred]))"
   ]
  },
  {
   "cell_type": "markdown",
   "metadata": {
    "papermill": {
     "duration": 0.037234,
     "end_time": "2023-11-06T07:19:19.464069",
     "exception": false,
     "start_time": "2023-11-06T07:19:19.426835",
     "status": "completed"
    },
    "tags": []
   },
   "source": [
    "Now let's plot our predicted prices compared to the actual prices."
   ]
  },
  {
   "cell_type": "code",
   "execution_count": 19,
   "metadata": {
    "execution": {
     "iopub.execute_input": "2023-11-06T07:19:19.555653Z",
     "iopub.status.busy": "2023-11-06T07:19:19.554561Z",
     "iopub.status.idle": "2023-11-06T07:19:19.777265Z",
     "shell.execute_reply": "2023-11-06T07:19:19.776483Z",
     "shell.execute_reply.started": "2023-11-06T04:20:05.510085Z"
    },
    "papermill": {
     "duration": 0.275354,
     "end_time": "2023-11-06T07:19:19.777399",
     "exception": false,
     "start_time": "2023-11-06T07:19:19.502045",
     "status": "completed"
    },
    "tags": []
   },
   "outputs": [
    {
     "data": {
      "image/png": "[encoded data removed]",
      "text/plain": [
       "<Figure size 1440x720 with 1 Axes>"
      ]
     },
     "metadata": {
      "needs_background": "light"
     },
     "output_type": "display_data"
    }
   ],
   "source": [
    "fig_dims = (20, 10)\n",
    "fig, ax = plt.subplots(figsize=fig_dims)\n",
    "ax.scatter(y_test, final_pred)\n",
    "ax.plot([y_test.min(), y_test.max()], [y_test.min(), y_test.max()], 'k--', lw=4)\n",
    "ax.set_xlabel('Measured')\n",
    "ax.set_ylabel('Predicted')\n",
    "plt.show()"
   ]
  }
 ],
 "metadata": {
  "kernelspec": {
   "display_name": "Python 3",
   "language": "python",
   "name": "python3"
  },
  "language_info": {
   "codemirror_mode": {
    "name": "ipython",
    "version": 3
   },
   "file_extension": ".py",
   "mimetype": "text/x-python",
   "name": "python",
   "nbconvert_exporter": "python",
   "pygments_lexer": "ipython3",
   "version": "3.7.6"
  },
  "papermill": {
   "duration": 11.766713,
   "end_time": "2023-11-06T07:19:19.926235",
   "environment_variables": {},
   "exception": null,
   "input_path": "__notebook__.ipynb",
   "output_path": "__notebook__.ipynb",
   "parameters": {},
   "start_time": "2023-11-06T07:19:08.159522",
   "version": "2.1.0"
  }
 },
 "nbformat": 4,
 "nbformat_minor": 4
}
